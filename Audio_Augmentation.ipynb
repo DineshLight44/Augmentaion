{
 "cells": [
  {
   "cell_type": "code",
   "execution_count": 5,
   "id": "f1b7a1a1-075b-44c1-adb1-42d7effd4f03",
   "metadata": {},
   "outputs": [],
   "source": [
    "import librosa\n",
    "import numpy as np\n",
    "import soundfile as sf"
   ]
  },
  {
   "cell_type": "code",
   "execution_count": 11,
   "id": "6ff81a34-b66a-44fc-bfae-c89fbfee4130",
   "metadata": {},
   "outputs": [],
   "source": [
    "# Load audio file\n",
    "y, sr = librosa.load(r\"C:\\Users\\dkglt\\OneDrive\\Desktop\\Speech-to-Text\\Audio Preprocessing\\clean.wav\", sr=None)"
   ]
  },
  {
   "cell_type": "code",
   "execution_count": 13,
   "id": "6d63806e-0da1-42ec-9f44-7cae0ac5dd9f",
   "metadata": {},
   "outputs": [],
   "source": [
    "def time_shift(audio, shift_max=0.2):\n",
    "    shift = np.random.randint(sr * shift_max)\n",
    "    return np.roll(audio, shift)\n"
   ]
  },
  {
   "cell_type": "code",
   "execution_count": 15,
   "id": "9ff6c024-dab2-4d79-9794-83e6ded4578e",
   "metadata": {},
   "outputs": [],
   "source": [
    "def add_noise(audio, noise_factor=0.005):\n",
    "    noise = np.random.randn(len(audio))\n",
    "    augmented = audio + noise_factor * noise\n",
    "    return augmented"
   ]
  },
  {
   "cell_type": "code",
   "execution_count": 17,
   "id": "7983dcbb-221f-4354-a233-1b37203d1356",
   "metadata": {},
   "outputs": [],
   "source": [
    "# Apply augmentations\n",
    "shifted_audio = time_shift(y)\n",
    "noisy_audio = add_noise(y)"
   ]
  },
  {
   "cell_type": "code",
   "execution_count": 19,
   "id": "2dc13d79-34da-45cc-aff1-0a8dcc78d533",
   "metadata": {},
   "outputs": [],
   "source": [
    "sf.write('shifted_audio.wav', shifted_audio, sr)\n",
    "sf.write('noisy_audio.wav', noisy_audio, sr)"
   ]
  },
  {
   "cell_type": "code",
   "execution_count": null,
   "id": "d06221f4-5598-4766-bb42-2d084e400abe",
   "metadata": {},
   "outputs": [],
   "source": []
  }
 ],
 "metadata": {
  "kernelspec": {
   "display_name": "Python 3 (ipykernel)",
   "language": "python",
   "name": "python3"
  },
  "language_info": {
   "codemirror_mode": {
    "name": "ipython",
    "version": 3
   },
   "file_extension": ".py",
   "mimetype": "text/x-python",
   "name": "python",
   "nbconvert_exporter": "python",
   "pygments_lexer": "ipython3",
   "version": "3.12.3"
  }
 },
 "nbformat": 4,
 "nbformat_minor": 5
}
